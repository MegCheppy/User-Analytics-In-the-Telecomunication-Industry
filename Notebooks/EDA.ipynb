{
 "cells": [
  {
   "cell_type": "markdown",
   "metadata": {},
   "source": [
    "# Exploratory Data Analysis"
   ]
  },
  {
   "cell_type": "markdown",
   "metadata": {},
   "source": [
    "The goal of this step is to understand the dataset, identify the missing values & outliers if any using visual and quantitative methods to get a sense of the story it tells. It suggests the next logical steps, questions, or areas of research for your project."
   ]
  },
  {
   "cell_type": "code",
   "execution_count": 1,
   "metadata": {},
   "outputs": [],
   "source": [
    "%load_ext autoreload\n",
    "%autoreload 2\n"
   ]
  },
  {
   "cell_type": "code",
   "execution_count": 2,
   "metadata": {},
   "outputs": [],
   "source": [
    "#import libraries and modules needed.\n",
    "import pandas as pd\n",
    "import numpy as np\n",
    "import seaborn as sns\n",
    "import matplotlib.pyplot as plt\n",
    "import os\n",
    "import sys"
   ]
  },
  {
   "cell_type": "code",
   "execution_count": 3,
   "metadata": {},
   "outputs": [],
   "source": [
    "import warnings\n",
    "warnings.filterwarnings('ignore')"
   ]
  },
  {
   "cell_type": "code",
   "execution_count": 4,
   "metadata": {},
   "outputs": [],
   "source": [
    "sys.path.append(os.path.abspath(os.path.join('../scripts')))\n",
    "from PreProcessing import PreProcess"
   ]
  },
  {
   "cell_type": "code",
   "execution_count": 5,
   "metadata": {},
   "outputs": [
    {
     "data": {
      "text/plain": [
       "PreProcessing.PreProcess"
      ]
     },
     "execution_count": 5,
     "metadata": {},
     "output_type": "execute_result"
    }
   ],
   "source": [
    "PreProcess"
   ]
  },
  {
   "cell_type": "markdown",
   "metadata": {},
   "source": [
    "### Data Extraction"
   ]
  },
  {
   "cell_type": "markdown",
   "metadata": {},
   "source": [
    "Here, we intend to have an overview of the data,understand what is in the columns and their sample values. The data was collected over a period of one month, as seen on the start and end dates."
   ]
  },
  {
   "cell_type": "code",
   "execution_count": 6,
   "metadata": {},
   "outputs": [
    {
     "data": {
      "text/html": [
       "<div>\n",
       "<style scoped>\n",
       "    .dataframe tbody tr th:only-of-type {\n",
       "        vertical-align: middle;\n",
       "    }\n",
       "\n",
       "    .dataframe tbody tr th {\n",
       "        vertical-align: top;\n",
       "    }\n",
       "\n",
       "    .dataframe thead th {\n",
       "        text-align: right;\n",
       "    }\n",
       "</style>\n",
       "<table border=\"1\" class=\"dataframe\">\n",
       "  <thead>\n",
       "    <tr style=\"text-align: right;\">\n",
       "      <th></th>\n",
       "      <th>Bearer Id</th>\n",
       "      <th>Start</th>\n",
       "      <th>Start ms</th>\n",
       "      <th>End</th>\n",
       "      <th>End ms</th>\n",
       "      <th>Dur. (ms)</th>\n",
       "      <th>IMSI</th>\n",
       "      <th>MSISDN/Number</th>\n",
       "      <th>IMEI</th>\n",
       "      <th>Last Location Name</th>\n",
       "      <th>...</th>\n",
       "      <th>Youtube DL (Bytes)</th>\n",
       "      <th>Youtube UL (Bytes)</th>\n",
       "      <th>Netflix DL (Bytes)</th>\n",
       "      <th>Netflix UL (Bytes)</th>\n",
       "      <th>Gaming DL (Bytes)</th>\n",
       "      <th>Gaming UL (Bytes)</th>\n",
       "      <th>Other DL (Bytes)</th>\n",
       "      <th>Other UL (Bytes)</th>\n",
       "      <th>Total UL (Bytes)</th>\n",
       "      <th>Total DL (Bytes)</th>\n",
       "    </tr>\n",
       "  </thead>\n",
       "  <tbody>\n",
       "    <tr>\n",
       "      <th>0</th>\n",
       "      <td>1.311448e+19</td>\n",
       "      <td>4/4/2019 12:01</td>\n",
       "      <td>770.0</td>\n",
       "      <td>4/25/2019 14:35</td>\n",
       "      <td>662.0</td>\n",
       "      <td>1823652.0</td>\n",
       "      <td>2.082014e+14</td>\n",
       "      <td>3.366496e+10</td>\n",
       "      <td>3.552121e+13</td>\n",
       "      <td>9.16456699548519E+015</td>\n",
       "      <td>...</td>\n",
       "      <td>1.585461e+07</td>\n",
       "      <td>2.501332e+06</td>\n",
       "      <td>8.198936e+06</td>\n",
       "      <td>9.656251e+06</td>\n",
       "      <td>2.780823e+08</td>\n",
       "      <td>1.434415e+07</td>\n",
       "      <td>1.717444e+08</td>\n",
       "      <td>8.814393e+06</td>\n",
       "      <td>36749741.0</td>\n",
       "      <td>308879636.0</td>\n",
       "    </tr>\n",
       "    <tr>\n",
       "      <th>1</th>\n",
       "      <td>1.311448e+19</td>\n",
       "      <td>4/9/2019 13:04</td>\n",
       "      <td>235.0</td>\n",
       "      <td>4/25/2019 8:15</td>\n",
       "      <td>606.0</td>\n",
       "      <td>1365104.0</td>\n",
       "      <td>2.082019e+14</td>\n",
       "      <td>3.368185e+10</td>\n",
       "      <td>3.579401e+13</td>\n",
       "      <td>L77566A</td>\n",
       "      <td>...</td>\n",
       "      <td>2.024740e+07</td>\n",
       "      <td>1.911173e+07</td>\n",
       "      <td>1.833841e+07</td>\n",
       "      <td>1.722713e+07</td>\n",
       "      <td>6.087501e+08</td>\n",
       "      <td>1.170709e+06</td>\n",
       "      <td>5.269042e+08</td>\n",
       "      <td>1.505514e+07</td>\n",
       "      <td>53800391.0</td>\n",
       "      <td>653384965.0</td>\n",
       "    </tr>\n",
       "    <tr>\n",
       "      <th>2</th>\n",
       "      <td>1.311448e+19</td>\n",
       "      <td>4/9/2019 17:42</td>\n",
       "      <td>1.0</td>\n",
       "      <td>4/25/2019 11:58</td>\n",
       "      <td>652.0</td>\n",
       "      <td>1361762.0</td>\n",
       "      <td>2.082003e+14</td>\n",
       "      <td>3.376063e+10</td>\n",
       "      <td>3.528151e+13</td>\n",
       "      <td>D42335A</td>\n",
       "      <td>...</td>\n",
       "      <td>1.972566e+07</td>\n",
       "      <td>1.469958e+07</td>\n",
       "      <td>1.758779e+07</td>\n",
       "      <td>6.163408e+06</td>\n",
       "      <td>2.295846e+08</td>\n",
       "      <td>3.956300e+05</td>\n",
       "      <td>4.106926e+08</td>\n",
       "      <td>4.215763e+06</td>\n",
       "      <td>27883638.0</td>\n",
       "      <td>279807335.0</td>\n",
       "    </tr>\n",
       "    <tr>\n",
       "      <th>3</th>\n",
       "      <td>1.311448e+19</td>\n",
       "      <td>4/10/2019 0:31</td>\n",
       "      <td>486.0</td>\n",
       "      <td>4/25/2019 7:36</td>\n",
       "      <td>171.0</td>\n",
       "      <td>1321509.0</td>\n",
       "      <td>2.082014e+14</td>\n",
       "      <td>3.375034e+10</td>\n",
       "      <td>3.535661e+13</td>\n",
       "      <td>T21824A</td>\n",
       "      <td>...</td>\n",
       "      <td>2.138812e+07</td>\n",
       "      <td>1.514664e+07</td>\n",
       "      <td>1.399465e+07</td>\n",
       "      <td>1.097942e+06</td>\n",
       "      <td>7.995382e+08</td>\n",
       "      <td>1.084972e+07</td>\n",
       "      <td>7.490399e+08</td>\n",
       "      <td>1.279728e+07</td>\n",
       "      <td>43324218.0</td>\n",
       "      <td>846028530.0</td>\n",
       "    </tr>\n",
       "    <tr>\n",
       "      <th>4</th>\n",
       "      <td>1.311448e+19</td>\n",
       "      <td>4/12/2019 20:10</td>\n",
       "      <td>565.0</td>\n",
       "      <td>4/25/2019 10:40</td>\n",
       "      <td>954.0</td>\n",
       "      <td>1089009.0</td>\n",
       "      <td>2.082014e+14</td>\n",
       "      <td>3.369980e+10</td>\n",
       "      <td>3.540701e+13</td>\n",
       "      <td>D88865A</td>\n",
       "      <td>...</td>\n",
       "      <td>1.525938e+07</td>\n",
       "      <td>1.896287e+07</td>\n",
       "      <td>1.712458e+07</td>\n",
       "      <td>4.152180e+05</td>\n",
       "      <td>5.277072e+08</td>\n",
       "      <td>3.529801e+06</td>\n",
       "      <td>5.507095e+08</td>\n",
       "      <td>1.391032e+07</td>\n",
       "      <td>38542814.0</td>\n",
       "      <td>569138589.0</td>\n",
       "    </tr>\n",
       "    <tr>\n",
       "      <th>...</th>\n",
       "      <td>...</td>\n",
       "      <td>...</td>\n",
       "      <td>...</td>\n",
       "      <td>...</td>\n",
       "      <td>...</td>\n",
       "      <td>...</td>\n",
       "      <td>...</td>\n",
       "      <td>...</td>\n",
       "      <td>...</td>\n",
       "      <td>...</td>\n",
       "      <td>...</td>\n",
       "      <td>...</td>\n",
       "      <td>...</td>\n",
       "      <td>...</td>\n",
       "      <td>...</td>\n",
       "      <td>...</td>\n",
       "      <td>...</td>\n",
       "      <td>...</td>\n",
       "      <td>...</td>\n",
       "      <td>...</td>\n",
       "      <td>...</td>\n",
       "    </tr>\n",
       "    <tr>\n",
       "      <th>149996</th>\n",
       "      <td>7.277826e+18</td>\n",
       "      <td>4/29/2019 7:28</td>\n",
       "      <td>451.0</td>\n",
       "      <td>4/30/2019 6:02</td>\n",
       "      <td>214.0</td>\n",
       "      <td>81230.0</td>\n",
       "      <td>2.082022e+14</td>\n",
       "      <td>3.365069e+10</td>\n",
       "      <td>3.548311e+13</td>\n",
       "      <td>D20434A</td>\n",
       "      <td>...</td>\n",
       "      <td>1.619167e+07</td>\n",
       "      <td>1.176343e+07</td>\n",
       "      <td>1.788370e+07</td>\n",
       "      <td>1.967816e+07</td>\n",
       "      <td>5.266097e+08</td>\n",
       "      <td>9.197207e+06</td>\n",
       "      <td>3.264510e+06</td>\n",
       "      <td>1.348742e+07</td>\n",
       "      <td>57628851.0</td>\n",
       "      <td>574175259.0</td>\n",
       "    </tr>\n",
       "    <tr>\n",
       "      <th>149997</th>\n",
       "      <td>7.349883e+18</td>\n",
       "      <td>4/29/2019 7:28</td>\n",
       "      <td>483.0</td>\n",
       "      <td>4/30/2019 10:41</td>\n",
       "      <td>187.0</td>\n",
       "      <td>97970.0</td>\n",
       "      <td>2.082019e+14</td>\n",
       "      <td>3.366345e+10</td>\n",
       "      <td>3.566051e+13</td>\n",
       "      <td>D10223C</td>\n",
       "      <td>...</td>\n",
       "      <td>1.387723e+07</td>\n",
       "      <td>8.288284e+06</td>\n",
       "      <td>1.935015e+07</td>\n",
       "      <td>2.129315e+07</td>\n",
       "      <td>6.268931e+08</td>\n",
       "      <td>4.735033e+06</td>\n",
       "      <td>7.121804e+08</td>\n",
       "      <td>2.457758e+06</td>\n",
       "      <td>39135081.0</td>\n",
       "      <td>666648844.0</td>\n",
       "    </tr>\n",
       "    <tr>\n",
       "      <th>149998</th>\n",
       "      <td>1.311448e+19</td>\n",
       "      <td>4/29/2019 7:28</td>\n",
       "      <td>283.0</td>\n",
       "      <td>4/30/2019 10:46</td>\n",
       "      <td>810.0</td>\n",
       "      <td>98249.0</td>\n",
       "      <td>2.082017e+14</td>\n",
       "      <td>3.362189e+10</td>\n",
       "      <td>3.572121e+13</td>\n",
       "      <td>T51102A</td>\n",
       "      <td>...</td>\n",
       "      <td>2.266051e+07</td>\n",
       "      <td>1.855903e+06</td>\n",
       "      <td>9.963942e+06</td>\n",
       "      <td>5.065760e+06</td>\n",
       "      <td>5.535395e+08</td>\n",
       "      <td>1.339432e+07</td>\n",
       "      <td>1.211009e+08</td>\n",
       "      <td>1.131473e+07</td>\n",
       "      <td>34912224.0</td>\n",
       "      <td>592786405.0</td>\n",
       "    </tr>\n",
       "    <tr>\n",
       "      <th>149999</th>\n",
       "      <td>1.311448e+19</td>\n",
       "      <td>4/29/2019 7:28</td>\n",
       "      <td>696.0</td>\n",
       "      <td>4/30/2019 10:40</td>\n",
       "      <td>327.0</td>\n",
       "      <td>97910.0</td>\n",
       "      <td>2.082021e+14</td>\n",
       "      <td>3.361962e+10</td>\n",
       "      <td>8.618620e+13</td>\n",
       "      <td>L88342B</td>\n",
       "      <td>...</td>\n",
       "      <td>8.817106e+06</td>\n",
       "      <td>8.305402e+06</td>\n",
       "      <td>3.322253e+06</td>\n",
       "      <td>1.317259e+07</td>\n",
       "      <td>3.525370e+08</td>\n",
       "      <td>2.529475e+06</td>\n",
       "      <td>8.147131e+08</td>\n",
       "      <td>1.406930e+06</td>\n",
       "      <td>29626096.0</td>\n",
       "      <td>371895920.0</td>\n",
       "    </tr>\n",
       "    <tr>\n",
       "      <th>150000</th>\n",
       "      <td>NaN</td>\n",
       "      <td>NaN</td>\n",
       "      <td>NaN</td>\n",
       "      <td>NaN</td>\n",
       "      <td>NaN</td>\n",
       "      <td>NaN</td>\n",
       "      <td>NaN</td>\n",
       "      <td>NaN</td>\n",
       "      <td>NaN</td>\n",
       "      <td>NaN</td>\n",
       "      <td>...</td>\n",
       "      <td>1.163407e+07</td>\n",
       "      <td>1.100941e+07</td>\n",
       "      <td>1.162685e+07</td>\n",
       "      <td>1.100175e+07</td>\n",
       "      <td>4.220447e+08</td>\n",
       "      <td>8.288398e+06</td>\n",
       "      <td>4.211005e+08</td>\n",
       "      <td>8.264799e+06</td>\n",
       "      <td>NaN</td>\n",
       "      <td>NaN</td>\n",
       "    </tr>\n",
       "  </tbody>\n",
       "</table>\n",
       "<p>150001 rows × 55 columns</p>\n",
       "</div>"
      ],
      "text/plain": [
       "           Bearer Id            Start  Start ms              End  End ms  \\\n",
       "0       1.311448e+19   4/4/2019 12:01     770.0  4/25/2019 14:35   662.0   \n",
       "1       1.311448e+19   4/9/2019 13:04     235.0   4/25/2019 8:15   606.0   \n",
       "2       1.311448e+19   4/9/2019 17:42       1.0  4/25/2019 11:58   652.0   \n",
       "3       1.311448e+19   4/10/2019 0:31     486.0   4/25/2019 7:36   171.0   \n",
       "4       1.311448e+19  4/12/2019 20:10     565.0  4/25/2019 10:40   954.0   \n",
       "...              ...              ...       ...              ...     ...   \n",
       "149996  7.277826e+18   4/29/2019 7:28     451.0   4/30/2019 6:02   214.0   \n",
       "149997  7.349883e+18   4/29/2019 7:28     483.0  4/30/2019 10:41   187.0   \n",
       "149998  1.311448e+19   4/29/2019 7:28     283.0  4/30/2019 10:46   810.0   \n",
       "149999  1.311448e+19   4/29/2019 7:28     696.0  4/30/2019 10:40   327.0   \n",
       "150000           NaN              NaN       NaN              NaN     NaN   \n",
       "\n",
       "        Dur. (ms)          IMSI  MSISDN/Number          IMEI  \\\n",
       "0       1823652.0  2.082014e+14   3.366496e+10  3.552121e+13   \n",
       "1       1365104.0  2.082019e+14   3.368185e+10  3.579401e+13   \n",
       "2       1361762.0  2.082003e+14   3.376063e+10  3.528151e+13   \n",
       "3       1321509.0  2.082014e+14   3.375034e+10  3.535661e+13   \n",
       "4       1089009.0  2.082014e+14   3.369980e+10  3.540701e+13   \n",
       "...           ...           ...            ...           ...   \n",
       "149996    81230.0  2.082022e+14   3.365069e+10  3.548311e+13   \n",
       "149997    97970.0  2.082019e+14   3.366345e+10  3.566051e+13   \n",
       "149998    98249.0  2.082017e+14   3.362189e+10  3.572121e+13   \n",
       "149999    97910.0  2.082021e+14   3.361962e+10  8.618620e+13   \n",
       "150000        NaN           NaN            NaN           NaN   \n",
       "\n",
       "           Last Location Name  ...  Youtube DL (Bytes)  Youtube UL (Bytes)  \\\n",
       "0       9.16456699548519E+015  ...        1.585461e+07        2.501332e+06   \n",
       "1                     L77566A  ...        2.024740e+07        1.911173e+07   \n",
       "2                     D42335A  ...        1.972566e+07        1.469958e+07   \n",
       "3                     T21824A  ...        2.138812e+07        1.514664e+07   \n",
       "4                     D88865A  ...        1.525938e+07        1.896287e+07   \n",
       "...                       ...  ...                 ...                 ...   \n",
       "149996                D20434A  ...        1.619167e+07        1.176343e+07   \n",
       "149997                D10223C  ...        1.387723e+07        8.288284e+06   \n",
       "149998                T51102A  ...        2.266051e+07        1.855903e+06   \n",
       "149999                L88342B  ...        8.817106e+06        8.305402e+06   \n",
       "150000                    NaN  ...        1.163407e+07        1.100941e+07   \n",
       "\n",
       "        Netflix DL (Bytes)  Netflix UL (Bytes)  Gaming DL (Bytes)  \\\n",
       "0             8.198936e+06        9.656251e+06       2.780823e+08   \n",
       "1             1.833841e+07        1.722713e+07       6.087501e+08   \n",
       "2             1.758779e+07        6.163408e+06       2.295846e+08   \n",
       "3             1.399465e+07        1.097942e+06       7.995382e+08   \n",
       "4             1.712458e+07        4.152180e+05       5.277072e+08   \n",
       "...                    ...                 ...                ...   \n",
       "149996        1.788370e+07        1.967816e+07       5.266097e+08   \n",
       "149997        1.935015e+07        2.129315e+07       6.268931e+08   \n",
       "149998        9.963942e+06        5.065760e+06       5.535395e+08   \n",
       "149999        3.322253e+06        1.317259e+07       3.525370e+08   \n",
       "150000        1.162685e+07        1.100175e+07       4.220447e+08   \n",
       "\n",
       "        Gaming UL (Bytes)  Other DL (Bytes)  Other UL (Bytes)  \\\n",
       "0            1.434415e+07      1.717444e+08      8.814393e+06   \n",
       "1            1.170709e+06      5.269042e+08      1.505514e+07   \n",
       "2            3.956300e+05      4.106926e+08      4.215763e+06   \n",
       "3            1.084972e+07      7.490399e+08      1.279728e+07   \n",
       "4            3.529801e+06      5.507095e+08      1.391032e+07   \n",
       "...                   ...               ...               ...   \n",
       "149996       9.197207e+06      3.264510e+06      1.348742e+07   \n",
       "149997       4.735033e+06      7.121804e+08      2.457758e+06   \n",
       "149998       1.339432e+07      1.211009e+08      1.131473e+07   \n",
       "149999       2.529475e+06      8.147131e+08      1.406930e+06   \n",
       "150000       8.288398e+06      4.211005e+08      8.264799e+06   \n",
       "\n",
       "        Total UL (Bytes)  Total DL (Bytes)  \n",
       "0             36749741.0       308879636.0  \n",
       "1             53800391.0       653384965.0  \n",
       "2             27883638.0       279807335.0  \n",
       "3             43324218.0       846028530.0  \n",
       "4             38542814.0       569138589.0  \n",
       "...                  ...               ...  \n",
       "149996        57628851.0       574175259.0  \n",
       "149997        39135081.0       666648844.0  \n",
       "149998        34912224.0       592786405.0  \n",
       "149999        29626096.0       371895920.0  \n",
       "150000               NaN               NaN  \n",
       "\n",
       "[150001 rows x 55 columns]"
      ]
     },
     "execution_count": 6,
     "metadata": {},
     "output_type": "execute_result"
    }
   ],
   "source": [
    "#to read the data\n",
    "db = pd.read_csv('../data/Tellco_data.csv', na_values=['?', None])\n",
    "db"
   ]
  },
  {
   "cell_type": "code",
   "execution_count": 7,
   "metadata": {},
   "outputs": [
    {
     "data": {
      "text/plain": [
       "['Bearer Id',\n",
       " 'Start',\n",
       " 'Start ms',\n",
       " 'End',\n",
       " 'End ms',\n",
       " 'Dur. (ms)',\n",
       " 'IMSI',\n",
       " 'MSISDN/Number',\n",
       " 'IMEI',\n",
       " 'Last Location Name',\n",
       " 'Avg RTT DL (ms)',\n",
       " 'Avg RTT UL (ms)',\n",
       " 'Avg Bearer TP DL (kbps)',\n",
       " 'Avg Bearer TP UL (kbps)',\n",
       " 'TCP DL Retrans. Vol (Bytes)',\n",
       " 'TCP UL Retrans. Vol (Bytes)',\n",
       " 'DL TP < 50 Kbps (%)',\n",
       " '50 Kbps < DL TP < 250 Kbps (%)',\n",
       " '250 Kbps < DL TP < 1 Mbps (%)',\n",
       " 'DL TP > 1 Mbps (%)',\n",
       " 'UL TP < 10 Kbps (%)',\n",
       " '10 Kbps < UL TP < 50 Kbps (%)',\n",
       " '50 Kbps < UL TP < 300 Kbps (%)',\n",
       " 'UL TP > 300 Kbps (%)',\n",
       " 'HTTP DL (Bytes)',\n",
       " 'HTTP UL (Bytes)',\n",
       " 'Activity Duration DL (ms)',\n",
       " 'Activity Duration UL (ms)',\n",
       " 'Dur. (ms).1',\n",
       " 'Handset Manufacturer',\n",
       " 'Handset Type',\n",
       " 'Nb of sec with 125000B < Vol DL',\n",
       " 'Nb of sec with 1250B < Vol UL < 6250B',\n",
       " 'Nb of sec with 31250B < Vol DL < 125000B',\n",
       " 'Nb of sec with 37500B < Vol UL',\n",
       " 'Nb of sec with 6250B < Vol DL < 31250B',\n",
       " 'Nb of sec with 6250B < Vol UL < 37500B',\n",
       " 'Nb of sec with Vol DL < 6250B',\n",
       " 'Nb of sec with Vol UL < 1250B',\n",
       " 'Social Media DL (Bytes)',\n",
       " 'Social Media UL (Bytes)',\n",
       " 'Google DL (Bytes)',\n",
       " 'Google UL (Bytes)',\n",
       " 'Email DL (Bytes)',\n",
       " 'Email UL (Bytes)',\n",
       " 'Youtube DL (Bytes)',\n",
       " 'Youtube UL (Bytes)',\n",
       " 'Netflix DL (Bytes)',\n",
       " 'Netflix UL (Bytes)',\n",
       " 'Gaming DL (Bytes)',\n",
       " 'Gaming UL (Bytes)',\n",
       " 'Other DL (Bytes)',\n",
       " 'Other UL (Bytes)',\n",
       " 'Total UL (Bytes)',\n",
       " 'Total DL (Bytes)']"
      ]
     },
     "execution_count": 7,
     "metadata": {},
     "output_type": "execute_result"
    }
   ],
   "source": [
    "# column names\n",
    "db.columns.tolist()"
   ]
  },
  {
   "cell_type": "markdown",
   "metadata": {},
   "source": [
    "A description of the columns can be found here (https://docs.google.com/spreadsheets/d/1QUOXuXK-W_DOovwgB6DO6-MtNSBQ62gc/edit#gid=497912695).How information is stored in a DataFrame or a Python object affects what we can do with it and the outputs of calculations as well. There are two data types, float(numeric data) and object(text data.)"
   ]
  },
  {
   "cell_type": "code",
   "execution_count": 8,
   "metadata": {},
   "outputs": [
    {
     "data": {
      "text/plain": [
       "Bearer Id                                   float64\n",
       "Start                                        object\n",
       "Start ms                                    float64\n",
       "End                                          object\n",
       "End ms                                      float64\n",
       "Dur. (ms)                                   float64\n",
       "IMSI                                        float64\n",
       "MSISDN/Number                               float64\n",
       "IMEI                                        float64\n",
       "Last Location Name                           object\n",
       "Avg RTT DL (ms)                             float64\n",
       "Avg RTT UL (ms)                             float64\n",
       "Avg Bearer TP DL (kbps)                     float64\n",
       "Avg Bearer TP UL (kbps)                     float64\n",
       "TCP DL Retrans. Vol (Bytes)                 float64\n",
       "TCP UL Retrans. Vol (Bytes)                 float64\n",
       "DL TP < 50 Kbps (%)                         float64\n",
       "50 Kbps < DL TP < 250 Kbps (%)              float64\n",
       "250 Kbps < DL TP < 1 Mbps (%)               float64\n",
       "DL TP > 1 Mbps (%)                          float64\n",
       "UL TP < 10 Kbps (%)                         float64\n",
       "10 Kbps < UL TP < 50 Kbps (%)               float64\n",
       "50 Kbps < UL TP < 300 Kbps (%)              float64\n",
       "UL TP > 300 Kbps (%)                        float64\n",
       "HTTP DL (Bytes)                             float64\n",
       "HTTP UL (Bytes)                             float64\n",
       "Activity Duration DL (ms)                   float64\n",
       "Activity Duration UL (ms)                   float64\n",
       "Dur. (ms).1                                 float64\n",
       "Handset Manufacturer                         object\n",
       "Handset Type                                 object\n",
       "Nb of sec with 125000B < Vol DL             float64\n",
       "Nb of sec with 1250B < Vol UL < 6250B       float64\n",
       "Nb of sec with 31250B < Vol DL < 125000B    float64\n",
       "Nb of sec with 37500B < Vol UL              float64\n",
       "Nb of sec with 6250B < Vol DL < 31250B      float64\n",
       "Nb of sec with 6250B < Vol UL < 37500B      float64\n",
       "Nb of sec with Vol DL < 6250B               float64\n",
       "Nb of sec with Vol UL < 1250B               float64\n",
       "Social Media DL (Bytes)                     float64\n",
       "Social Media UL (Bytes)                     float64\n",
       "Google DL (Bytes)                           float64\n",
       "Google UL (Bytes)                           float64\n",
       "Email DL (Bytes)                            float64\n",
       "Email UL (Bytes)                            float64\n",
       "Youtube DL (Bytes)                          float64\n",
       "Youtube UL (Bytes)                          float64\n",
       "Netflix DL (Bytes)                          float64\n",
       "Netflix UL (Bytes)                          float64\n",
       "Gaming DL (Bytes)                           float64\n",
       "Gaming UL (Bytes)                           float64\n",
       "Other DL (Bytes)                            float64\n",
       "Other UL (Bytes)                            float64\n",
       "Total UL (Bytes)                            float64\n",
       "Total DL (Bytes)                            float64\n",
       "dtype: object"
      ]
     },
     "execution_count": 8,
     "metadata": {},
     "output_type": "execute_result"
    }
   ],
   "source": [
    "#properties of the columns\n",
    "db.dtypes"
   ]
  },
  {
   "cell_type": "code",
   "execution_count": 9,
   "metadata": {},
   "outputs": [
    {
     "name": "stdout",
     "output_type": "stream",
     "text": [
      " There are 150001 rows and 55 columns\n"
     ]
    }
   ],
   "source": [
    "# number of data points\n",
    "print(f\" There are {db.shape[0]} rows and {db.shape[1]} columns\")"
   ]
  },
  {
   "cell_type": "markdown",
   "metadata": {},
   "source": [
    "### Data Cleaning"
   ]
  },
  {
   "cell_type": "markdown",
   "metadata": {},
   "source": [
    "Checking for missing values in the data and fixing outliers."
   ]
  },
  {
   "cell_type": "code",
   "execution_count": 10,
   "metadata": {},
   "outputs": [
    {
     "data": {
      "text/plain": [
       "Bearer Id                                      991\n",
       "Start                                            1\n",
       "Start ms                                         1\n",
       "End                                              1\n",
       "End ms                                           1\n",
       "Dur. (ms)                                        1\n",
       "IMSI                                           570\n",
       "MSISDN/Number                                 1066\n",
       "IMEI                                           572\n",
       "Last Location Name                            1153\n",
       "Avg RTT DL (ms)                              27829\n",
       "Avg RTT UL (ms)                              27812\n",
       "Avg Bearer TP DL (kbps)                          1\n",
       "Avg Bearer TP UL (kbps)                          1\n",
       "TCP DL Retrans. Vol (Bytes)                  88146\n",
       "TCP UL Retrans. Vol (Bytes)                  96649\n",
       "DL TP < 50 Kbps (%)                            754\n",
       "50 Kbps < DL TP < 250 Kbps (%)                 754\n",
       "250 Kbps < DL TP < 1 Mbps (%)                  754\n",
       "DL TP > 1 Mbps (%)                             754\n",
       "UL TP < 10 Kbps (%)                            792\n",
       "10 Kbps < UL TP < 50 Kbps (%)                  792\n",
       "50 Kbps < UL TP < 300 Kbps (%)                 792\n",
       "UL TP > 300 Kbps (%)                           792\n",
       "HTTP DL (Bytes)                              81474\n",
       "HTTP UL (Bytes)                              81810\n",
       "Activity Duration DL (ms)                        1\n",
       "Activity Duration UL (ms)                        1\n",
       "Dur. (ms).1                                      1\n",
       "Handset Manufacturer                           572\n",
       "Handset Type                                   572\n",
       "Nb of sec with 125000B < Vol DL              97538\n",
       "Nb of sec with 1250B < Vol UL < 6250B        92894\n",
       "Nb of sec with 31250B < Vol DL < 125000B     93586\n",
       "Nb of sec with 37500B < Vol UL              130254\n",
       "Nb of sec with 6250B < Vol DL < 31250B       88317\n",
       "Nb of sec with 6250B < Vol UL < 37500B      111843\n",
       "Nb of sec with Vol DL < 6250B                  755\n",
       "Nb of sec with Vol UL < 1250B                  793\n",
       "Social Media DL (Bytes)                          0\n",
       "Social Media UL (Bytes)                          0\n",
       "Google DL (Bytes)                                0\n",
       "Google UL (Bytes)                                0\n",
       "Email DL (Bytes)                                 0\n",
       "Email UL (Bytes)                                 0\n",
       "Youtube DL (Bytes)                               0\n",
       "Youtube UL (Bytes)                               0\n",
       "Netflix DL (Bytes)                               0\n",
       "Netflix UL (Bytes)                               0\n",
       "Gaming DL (Bytes)                                0\n",
       "Gaming UL (Bytes)                                0\n",
       "Other DL (Bytes)                                 0\n",
       "Other UL (Bytes)                                 0\n",
       "Total UL (Bytes)                                 1\n",
       "Total DL (Bytes)                                 1\n",
       "dtype: int64"
      ]
     },
     "execution_count": 10,
     "metadata": {},
     "output_type": "execute_result"
    }
   ],
   "source": [
    "#number of missing values for each column.\n",
    "db.isnull().sum()"
   ]
  },
  {
   "cell_type": "code",
   "execution_count": 11,
   "metadata": {},
   "outputs": [
    {
     "name": "stdout",
     "output_type": "stream",
     "text": [
      "TellCo's data contains 12.5 % missing values.\n"
     ]
    }
   ],
   "source": [
    "# how many missing values exist or better still what is the % of missing values in the dataset?\n",
    "def percent_missing(db):\n",
    "\n",
    "    # Calculate total number of cells in dataframe\n",
    "    totalCells = np.product(db.shape) #multiplication of rows and columns from np.product function\n",
    "\n",
    "    # Count number of missing values per column\n",
    "    missingCount = db.isnull().sum() #return no of missing rows for each column\n",
    "\n",
    "    # Calculate total number of missing values\n",
    "    totalMissing = missingCount.sum() \n",
    "\n",
    "    # Calculate percentage of missing values\n",
    "    print(\"TellCo's data contains\", round(((totalMissing/totalCells) * 100), 2), \"%\", \"missing values.\")\n",
    "\n",
    "percent_missing(db)"
   ]
  },
  {
   "cell_type": "markdown",
   "metadata": {},
   "source": [
    "We need to handle missing values with the help of the data types ouput above. From the rule of thumb, for any object/text data type,we use the mode function , we will need to use the mode function(most appearing) to fill the missing values. For numeric data, we use the mean and median functions to approximate values to fill in. To choose which method to use, we need to check for skewness of data. Skewness refer to the distortion of a symmetrical curve. If the curve shifts to the left(-vely skewed) or right(+vely skewed), it is skewed,if symmetric, the data is not skewed. If the data is not skewed, then we assign the missing values with the mean or median. If skewed, we just use the median value."
   ]
  },
  {
   "cell_type": "code",
   "execution_count": 12,
   "metadata": {},
   "outputs": [
    {
     "data": {
      "text/plain": [
       "Bearer Id                                     0.026666\n",
       "Start ms                                      0.000968\n",
       "End ms                                       -0.001163\n",
       "Dur. (ms)                                     3.952609\n",
       "IMSI                                         41.045956\n",
       "MSISDN/Number                               332.155856\n",
       "IMEI                                          1.071470\n",
       "Avg RTT DL (ms)                              62.907828\n",
       "Avg RTT UL (ms)                              28.457415\n",
       "Avg Bearer TP DL (kbps)                       2.589437\n",
       "Avg Bearer TP UL (kbps)                       4.503413\n",
       "TCP DL Retrans. Vol (Bytes)                  15.951809\n",
       "TCP UL Retrans. Vol (Bytes)                  84.113393\n",
       "DL TP < 50 Kbps (%)                          -2.297803\n",
       "50 Kbps < DL TP < 250 Kbps (%)                3.271453\n",
       "250 Kbps < DL TP < 1 Mbps (%)                 4.566158\n",
       "DL TP > 1 Mbps (%)                            5.370351\n",
       "UL TP < 10 Kbps (%)                          -8.985016\n",
       "10 Kbps < UL TP < 50 Kbps (%)                10.943888\n",
       "50 Kbps < UL TP < 300 Kbps (%)               21.878495\n",
       "UL TP > 300 Kbps (%)                         36.174053\n",
       "HTTP DL (Bytes)                              38.944710\n",
       "HTTP UL (Bytes)                              32.474970\n",
       "Activity Duration DL (ms)                     5.872256\n",
       "Activity Duration UL (ms)                     7.382557\n",
       "Dur. (ms).1                                   3.952609\n",
       "Nb of sec with 125000B < Vol DL               6.592502\n",
       "Nb of sec with 1250B < Vol UL < 6250B        22.035745\n",
       "Nb of sec with 31250B < Vol DL < 125000B      6.610541\n",
       "Nb of sec with 37500B < Vol UL               21.560028\n",
       "Nb of sec with 6250B < Vol DL < 31250B        6.896050\n",
       "Nb of sec with 6250B < Vol UL < 37500B       19.642752\n",
       "Nb of sec with Vol DL < 6250B                 9.042166\n",
       "Nb of sec with Vol UL < 1250B                 7.495176\n",
       "Social Media DL (Bytes)                      -0.002136\n",
       "Social Media UL (Bytes)                      -0.000359\n",
       "Google DL (Bytes)                            -0.008092\n",
       "Google UL (Bytes)                             0.002216\n",
       "Email DL (Bytes)                             -0.002463\n",
       "Email UL (Bytes)                              0.007358\n",
       "Youtube DL (Bytes)                            0.000231\n",
       "Youtube UL (Bytes)                           -0.001142\n",
       "Netflix DL (Bytes)                           -0.002442\n",
       "Netflix UL (Bytes)                           -0.000113\n",
       "Gaming DL (Bytes)                            -0.003460\n",
       "Gaming UL (Bytes)                            -0.001840\n",
       "Other DL (Bytes)                              0.001400\n",
       "Other UL (Bytes)                              0.001392\n",
       "Total UL (Bytes)                             -0.002456\n",
       "Total DL (Bytes)                             -0.003153\n",
       "dtype: float64"
      ]
     },
     "execution_count": 12,
     "metadata": {},
     "output_type": "execute_result"
    }
   ],
   "source": [
    "#to calculate skewness,\n",
    "db.skew(axis=0)"
   ]
  },
  {
   "cell_type": "markdown",
   "metadata": {},
   "source": [
    "From the output, the +ve values shows the data in the columns is +vely skewed and the negative values, -vely skewed.To confirm this, we can use plots for each columns to visualize the skewness."
   ]
  },
  {
   "cell_type": "code",
   "execution_count": 13,
   "metadata": {},
   "outputs": [
    {
     "data": {
      "text/plain": [
       "array([[<AxesSubplot:title={'center':'Bearer Id'}>,\n",
       "        <AxesSubplot:title={'center':'Start ms'}>,\n",
       "        <AxesSubplot:title={'center':'End ms'}>,\n",
       "        <AxesSubplot:title={'center':'Dur. (ms)'}>,\n",
       "        <AxesSubplot:title={'center':'IMSI'}>,\n",
       "        <AxesSubplot:title={'center':'MSISDN/Number'}>,\n",
       "        <AxesSubplot:title={'center':'IMEI'}>],\n",
       "       [<AxesSubplot:title={'center':'Avg RTT DL (ms)'}>,\n",
       "        <AxesSubplot:title={'center':'Avg RTT UL (ms)'}>,\n",
       "        <AxesSubplot:title={'center':'Avg Bearer TP DL (kbps)'}>,\n",
       "        <AxesSubplot:title={'center':'Avg Bearer TP UL (kbps)'}>,\n",
       "        <AxesSubplot:title={'center':'TCP DL Retrans. Vol (Bytes)'}>,\n",
       "        <AxesSubplot:title={'center':'TCP UL Retrans. Vol (Bytes)'}>,\n",
       "        <AxesSubplot:title={'center':'DL TP < 50 Kbps (%)'}>],\n",
       "       [<AxesSubplot:title={'center':'50 Kbps < DL TP < 250 Kbps (%)'}>,\n",
       "        <AxesSubplot:title={'center':'250 Kbps < DL TP < 1 Mbps (%)'}>,\n",
       "        <AxesSubplot:title={'center':'DL TP > 1 Mbps (%)'}>,\n",
       "        <AxesSubplot:title={'center':'UL TP < 10 Kbps (%)'}>,\n",
       "        <AxesSubplot:title={'center':'10 Kbps < UL TP < 50 Kbps (%)'}>,\n",
       "        <AxesSubplot:title={'center':'50 Kbps < UL TP < 300 Kbps (%)'}>,\n",
       "        <AxesSubplot:title={'center':'UL TP > 300 Kbps (%)'}>],\n",
       "       [<AxesSubplot:title={'center':'HTTP DL (Bytes)'}>,\n",
       "        <AxesSubplot:title={'center':'HTTP UL (Bytes)'}>,\n",
       "        <AxesSubplot:title={'center':'Activity Duration DL (ms)'}>,\n",
       "        <AxesSubplot:title={'center':'Activity Duration UL (ms)'}>,\n",
       "        <AxesSubplot:title={'center':'Dur. (ms).1'}>,\n",
       "        <AxesSubplot:title={'center':'Nb of sec with 125000B < Vol DL'}>,\n",
       "        <AxesSubplot:title={'center':'Nb of sec with 1250B < Vol UL < 6250B'}>],\n",
       "       [<AxesSubplot:title={'center':'Nb of sec with 31250B < Vol DL < 125000B'}>,\n",
       "        <AxesSubplot:title={'center':'Nb of sec with 37500B < Vol UL'}>,\n",
       "        <AxesSubplot:title={'center':'Nb of sec with 6250B < Vol DL < 31250B'}>,\n",
       "        <AxesSubplot:title={'center':'Nb of sec with 6250B < Vol UL < 37500B'}>,\n",
       "        <AxesSubplot:title={'center':'Nb of sec with Vol DL < 6250B'}>,\n",
       "        <AxesSubplot:title={'center':'Nb of sec with Vol UL < 1250B'}>,\n",
       "        <AxesSubplot:title={'center':'Social Media DL (Bytes)'}>],\n",
       "       [<AxesSubplot:title={'center':'Social Media UL (Bytes)'}>,\n",
       "        <AxesSubplot:title={'center':'Google DL (Bytes)'}>,\n",
       "        <AxesSubplot:title={'center':'Google UL (Bytes)'}>,\n",
       "        <AxesSubplot:title={'center':'Email DL (Bytes)'}>,\n",
       "        <AxesSubplot:title={'center':'Email UL (Bytes)'}>,\n",
       "        <AxesSubplot:title={'center':'Youtube DL (Bytes)'}>,\n",
       "        <AxesSubplot:title={'center':'Youtube UL (Bytes)'}>],\n",
       "       [<AxesSubplot:title={'center':'Netflix DL (Bytes)'}>,\n",
       "        <AxesSubplot:title={'center':'Netflix UL (Bytes)'}>,\n",
       "        <AxesSubplot:title={'center':'Gaming DL (Bytes)'}>,\n",
       "        <AxesSubplot:title={'center':'Gaming UL (Bytes)'}>,\n",
       "        <AxesSubplot:title={'center':'Other DL (Bytes)'}>,\n",
       "        <AxesSubplot:title={'center':'Other UL (Bytes)'}>,\n",
       "        <AxesSubplot:title={'center':'Total UL (Bytes)'}>],\n",
       "       [<AxesSubplot:title={'center':'Total DL (Bytes)'}>,\n",
       "        <AxesSubplot:>, <AxesSubplot:>, <AxesSubplot:>, <AxesSubplot:>,\n",
       "        <AxesSubplot:>, <AxesSubplot:>]], dtype=object)"
      ]
     },
     "execution_count": 13,
     "metadata": {},
     "output_type": "execute_result"
    },
    {
     "data": {
      "image/png": "[encoded data removed]",
      "text/plain": [
       "<Figure size 2160x1800 with 56 Axes>"
      ]
     },
     "metadata": {
      "needs_background": "light"
     },
     "output_type": "display_data"
    }
   ],
   "source": [
    "#to visualize skewness for every column,\n",
    "db.hist(bins=80, figsize=(30,25))\n"
   ]
  },
  {
   "cell_type": "markdown",
   "metadata": {},
   "source": [
    "## Exploratory Data Analsis"
   ]
  },
  {
   "cell_type": "code",
   "execution_count": 15,
   "metadata": {},
   "outputs": [
    {
     "name": "stdout",
     "output_type": "stream",
     "text": [
      "Huawei B528S-23A                19752\n",
      "Apple iPhone 6S (A1688)          9419\n",
      "Apple iPhone 6 (A1586)           9023\n",
      "undefined                        8987\n",
      "Apple iPhone 7 (A1778)           6326\n",
      "Apple iPhone Se (A1723)          5187\n",
      "Apple iPhone 8 (A1905)           4993\n",
      "Apple iPhone Xr (A2105)          4568\n",
      "Samsung Galaxy S8 (Sm-G950F)     4520\n",
      "Apple iPhone X (A1901)           3813\n",
      "Name: Handset Type, dtype: int64\n"
     ]
    },
    {
     "data": {
      "text/plain": [
       "<AxesSubplot:title={'center':'The top 10 handset used by customers'}, ylabel='Handset Type'>"
      ]
     },
     "execution_count": 15,
     "metadata": {},
     "output_type": "execute_result"
    },
    {
     "data": {
      "image/png": "[encoded data removed]",
      "text/plain": [
       "<Figure size 432x288 with 1 Axes>"
      ]
     },
     "metadata": {},
     "output_type": "display_data"
    }
   ],
   "source": [
    "all = db['Handset Type'].value_counts().head(10)\n",
    "print(all)\n",
    "all.plot(kind=\"pie\", title=\"The top 10 handset used by customers\")"
   ]
  },
  {
   "cell_type": "code",
   "execution_count": 17,
   "metadata": {},
   "outputs": [
    {
     "name": "stdout",
     "output_type": "stream",
     "text": [
      "Apple      59565\n",
      "Samsung    40839\n",
      "Huawei     34423\n",
      "Name: Handset Manufacturer, dtype: int64\n"
     ]
    },
    {
     "data": {
      "image/png": "[encoded data removed]",
      "text/plain": [
       "<Figure size 432x288 with 1 Axes>"
      ]
     },
     "metadata": {},
     "output_type": "display_data"
    }
   ],
   "source": [
    "# top 3 handset manufacturers\n",
    "mode= db['Handset Manufacturer'].mode()\n",
    "db['Handset Manufacturer'].fillna(mode,inplace=True)\n",
    "x = db['Handset Manufacturer'].value_counts().head(3)\n",
    "print(x)\n",
    "x.plot(kind=\"pie\", title=\"The top 3 Handset manufacturers\");"
   ]
  },
  {
   "cell_type": "code",
   "execution_count": 18,
   "metadata": {},
   "outputs": [
    {
     "name": "stdout",
     "output_type": "stream",
     "text": [
      "Handset Type\n",
      "Huawei B528S-23A                  19752\n",
      "Huawei E5180                       2079\n",
      "Huawei P20 Lite Huawei Nova 3E     2021\n",
      "Huawei P20                         1480\n",
      "Huawei Y6 2018                      997\n",
      "Name: Handset Type, dtype: int64\n"
     ]
    },
    {
     "data": {
      "text/plain": [
       "<AxesSubplot:title={'center':' top 5 Huawei handset'}, ylabel='Handset Type'>"
      ]
     },
     "execution_count": 18,
     "metadata": {},
     "output_type": "execute_result"
    },
    {
     "data": {
      "image/png": "[encoded data removed]",
      "text/plain": [
       "<Figure size 432x288 with 1 Axes>"
      ]
     },
     "metadata": {},
     "output_type": "display_data"
    }
   ],
   "source": [
    "#top 5 Huawei handset types\n",
    "top3 = db.groupby('Handset Manufacturer')['Handset Type'].value_counts()['Huawei'].head(5)\n",
    "print(top3)\n",
    "top3.plot(kind=\"pie\" , title=\" top 5 Huawei handset\")"
   ]
  },
  {
   "cell_type": "code",
   "execution_count": 19,
   "metadata": {},
   "outputs": [
    {
     "name": "stdout",
     "output_type": "stream",
     "text": [
      "Handset Type\n",
      "Apple iPhone 6S (A1688)    9419\n",
      "Apple iPhone 6 (A1586)     9023\n",
      "Apple iPhone 7 (A1778)     6326\n",
      "Apple iPhone Se (A1723)    5187\n",
      "Apple iPhone 8 (A1905)     4993\n",
      "Name: Handset Type, dtype: int64\n"
     ]
    },
    {
     "data": {
      "text/plain": [
       "<AxesSubplot:title={'center':'top 5 Apple handset'}, ylabel='Handset Type'>"
      ]
     },
     "execution_count": 19,
     "metadata": {},
     "output_type": "execute_result"
    },
    {
     "data": {
      "image/png": "[encoded data removed]",
      "text/plain": [
       "<Figure size 432x288 with 1 Axes>"
      ]
     },
     "metadata": {},
     "output_type": "display_data"
    }
   ],
   "source": [
    "#top 5 Apple handset types.\n",
    "apple = db.groupby('Handset Manufacturer')['Handset Type'].value_counts()['Apple'].head()\n",
    "print(apple)\n",
    "apple.plot(kind=\"pie\",  title = 'top 5 Apple handset')"
   ]
  },
  {
   "cell_type": "code",
   "execution_count": 20,
   "metadata": {},
   "outputs": [
    {
     "name": "stdout",
     "output_type": "stream",
     "text": [
      "Handset Type\n",
      "Samsung Galaxy S8 (Sm-G950F)    4520\n",
      "Samsung Galaxy A5 Sm-A520F      3724\n",
      "Samsung Galaxy J5 (Sm-J530)     3696\n",
      "Samsung Galaxy J3 (Sm-J330)     3484\n",
      "Samsung Galaxy S7 (Sm-G930X)    3199\n",
      "Name: Handset Type, dtype: int64\n"
     ]
    },
    {
     "data": {
      "text/plain": [
       "<AxesSubplot:title={'center':'top 5 Samsung handset'}, ylabel='Handset Type'>"
      ]
     },
     "execution_count": 20,
     "metadata": {},
     "output_type": "execute_result"
    },
    {
     "data": {
      "image/png": "[encoded data removed]",
      "text/plain": [
       "<Figure size 432x288 with 1 Axes>"
      ]
     },
     "metadata": {},
     "output_type": "display_data"
    }
   ],
   "source": [
    "#top 5 Samsung handset types.\n",
    "samsung = db.groupby('Handset Manufacturer')['Handset Type'].value_counts()['Samsung'].head()\n",
    "print(samsung)\n",
    "samsung.plot(kind=\"pie\", title = 'top 5 Samsung handset')"
   ]
  },
  {
   "cell_type": "code",
   "execution_count": 22,
   "metadata": {},
   "outputs": [
    {
     "name": "stdout",
     "output_type": "stream",
     "text": [
      "45547 users\n",
      "Number of posts per user\n"
     ]
    },
    {
     "data": {
      "text/plain": [
       "<AxesSubplot:>"
      ]
     },
     "execution_count": 22,
     "metadata": {},
     "output_type": "execute_result"
    },
    {
     "data": {
      "image/png": "[encoded data removed]",
      "text/plain": [
       "<Figure size 432x288 with 1 Axes>"
      ]
     },
     "metadata": {
      "needs_background": "light"
     },
     "output_type": "display_data"
    }
   ],
   "source": [
    "handset_manufacturer = db['Last Location Name'].value_counts()\n",
    "print(len(handset_manufacturer), \"users\")\n",
    "print(\"Number of posts per user\")\n",
    "handset_manufacturer[:3].plot(\n",
    "    kind='bar', color=['pink', 'purple', 'blue'])\n"
   ]
  },
  {
   "cell_type": "markdown",
   "metadata": {},
   "source": [
    "Aggregate per user the following information in the column  \n",
    "number of xDR sessions\n",
    "Session duration\n",
    "the total download (DL) and upload (UL) data\n",
    "the total data volume (in Bytes) during this session for each application\n"
   ]
  },
  {
   "cell_type": "code",
   "execution_count": 29,
   "metadata": {},
   "outputs": [],
   "source": [
    "def aggregation_cols(db,col_1,col_2,trim=False):\n",
    "    \n",
    "    grouped = db.groupby(col_1).agg({col_2: [min, max, sum]})  \n",
    "    grouped.columns = [\"_\".join(x) for x in grouped.columns.ravel()]\n",
    "    if trim:\n",
    "        return grouped.describe()\n",
    "    return grouped"
   ]
  },
  {
   "cell_type": "code",
   "execution_count": 40,
   "metadata": {},
   "outputs": [
    {
     "data": {
      "text/html": [
       "<div>\n",
       "<style scoped>\n",
       "    .dataframe tbody tr th:only-of-type {\n",
       "        vertical-align: middle;\n",
       "    }\n",
       "\n",
       "    .dataframe tbody tr th {\n",
       "        vertical-align: top;\n",
       "    }\n",
       "\n",
       "    .dataframe thead th {\n",
       "        text-align: right;\n",
       "    }\n",
       "</style>\n",
       "<table border=\"1\" class=\"dataframe\">\n",
       "  <thead>\n",
       "    <tr style=\"text-align: right;\">\n",
       "      <th></th>\n",
       "      <th>Bearer Id_min</th>\n",
       "      <th>Bearer Id_max</th>\n",
       "      <th>Bearer Id_sum</th>\n",
       "    </tr>\n",
       "  </thead>\n",
       "  <tbody>\n",
       "    <tr>\n",
       "      <th>count</th>\n",
       "      <td>1.064710e+05</td>\n",
       "      <td>1.064710e+05</td>\n",
       "      <td>1.068560e+05</td>\n",
       "    </tr>\n",
       "    <tr>\n",
       "      <th>mean</th>\n",
       "      <td>9.861111e+18</td>\n",
       "      <td>9.884479e+18</td>\n",
       "      <td>1.410173e+19</td>\n",
       "    </tr>\n",
       "    <tr>\n",
       "      <th>std</th>\n",
       "      <td>2.880069e+18</td>\n",
       "      <td>2.882507e+18</td>\n",
       "      <td>1.062550e+19</td>\n",
       "    </tr>\n",
       "    <tr>\n",
       "      <th>min</th>\n",
       "      <td>6.917538e+18</td>\n",
       "      <td>6.917538e+18</td>\n",
       "      <td>0.000000e+00</td>\n",
       "    </tr>\n",
       "    <tr>\n",
       "      <th>25%</th>\n",
       "      <td>7.277826e+18</td>\n",
       "      <td>7.349883e+18</td>\n",
       "      <td>7.349883e+18</td>\n",
       "    </tr>\n",
       "    <tr>\n",
       "      <th>50%</th>\n",
       "      <td>7.349883e+18</td>\n",
       "      <td>7.349883e+18</td>\n",
       "      <td>1.304243e+19</td>\n",
       "    </tr>\n",
       "    <tr>\n",
       "      <th>75%</th>\n",
       "      <td>1.304243e+19</td>\n",
       "      <td>1.311448e+19</td>\n",
       "      <td>1.462771e+19</td>\n",
       "    </tr>\n",
       "    <tr>\n",
       "      <th>max</th>\n",
       "      <td>1.318654e+19</td>\n",
       "      <td>1.318654e+19</td>\n",
       "      <td>2.217933e+20</td>\n",
       "    </tr>\n",
       "  </tbody>\n",
       "</table>\n",
       "</div>"
      ],
      "text/plain": [
       "       Bearer Id_min  Bearer Id_max  Bearer Id_sum\n",
       "count   1.064710e+05   1.064710e+05   1.068560e+05\n",
       "mean    9.861111e+18   9.884479e+18   1.410173e+19\n",
       "std     2.880069e+18   2.882507e+18   1.062550e+19\n",
       "min     6.917538e+18   6.917538e+18   0.000000e+00\n",
       "25%     7.277826e+18   7.349883e+18   7.349883e+18\n",
       "50%     7.349883e+18   7.349883e+18   1.304243e+19\n",
       "75%     1.304243e+19   1.311448e+19   1.462771e+19\n",
       "max     1.318654e+19   1.318654e+19   2.217933e+20"
      ]
     },
     "execution_count": 40,
     "metadata": {},
     "output_type": "execute_result"
    }
   ],
   "source": [
    "aggregation_cols(db,'MSISDN/Number','Bearer Id',True)\n"
   ]
  },
  {
   "cell_type": "code",
   "execution_count": 31,
   "metadata": {},
   "outputs": [
    {
     "data": {
      "text/html": [
       "<div>\n",
       "<style scoped>\n",
       "    .dataframe tbody tr th:only-of-type {\n",
       "        vertical-align: middle;\n",
       "    }\n",
       "\n",
       "    .dataframe tbody tr th {\n",
       "        vertical-align: top;\n",
       "    }\n",
       "\n",
       "    .dataframe thead th {\n",
       "        text-align: right;\n",
       "    }\n",
       "</style>\n",
       "<table border=\"1\" class=\"dataframe\">\n",
       "  <thead>\n",
       "    <tr style=\"text-align: right;\">\n",
       "      <th></th>\n",
       "      <th>Dur. (ms)_min</th>\n",
       "      <th>Dur. (ms)_max</th>\n",
       "      <th>Dur. (ms)_sum</th>\n",
       "    </tr>\n",
       "  </thead>\n",
       "  <tbody>\n",
       "    <tr>\n",
       "      <th>count</th>\n",
       "      <td>1.068560e+05</td>\n",
       "      <td>1.068560e+05</td>\n",
       "      <td>1.068560e+05</td>\n",
       "    </tr>\n",
       "    <tr>\n",
       "      <th>mean</th>\n",
       "      <td>9.670630e+04</td>\n",
       "      <td>1.092361e+05</td>\n",
       "      <td>1.461672e+05</td>\n",
       "    </tr>\n",
       "    <tr>\n",
       "      <th>std</th>\n",
       "      <td>6.860320e+04</td>\n",
       "      <td>8.302563e+04</td>\n",
       "      <td>1.863587e+05</td>\n",
       "    </tr>\n",
       "    <tr>\n",
       "      <th>min</th>\n",
       "      <td>7.142000e+03</td>\n",
       "      <td>7.142000e+03</td>\n",
       "      <td>7.142000e+03</td>\n",
       "    </tr>\n",
       "    <tr>\n",
       "      <th>25%</th>\n",
       "      <td>5.095100e+04</td>\n",
       "      <td>5.795325e+04</td>\n",
       "      <td>7.130800e+04</td>\n",
       "    </tr>\n",
       "    <tr>\n",
       "      <th>50%</th>\n",
       "      <td>8.639900e+04</td>\n",
       "      <td>8.640100e+04</td>\n",
       "      <td>1.027400e+05</td>\n",
       "    </tr>\n",
       "    <tr>\n",
       "      <th>75%</th>\n",
       "      <td>1.253688e+05</td>\n",
       "      <td>1.432058e+05</td>\n",
       "      <td>1.727990e+05</td>\n",
       "    </tr>\n",
       "    <tr>\n",
       "      <th>max</th>\n",
       "      <td>1.573420e+06</td>\n",
       "      <td>1.859336e+06</td>\n",
       "      <td>1.855375e+07</td>\n",
       "    </tr>\n",
       "  </tbody>\n",
       "</table>\n",
       "</div>"
      ],
      "text/plain": [
       "       Dur. (ms)_min  Dur. (ms)_max  Dur. (ms)_sum\n",
       "count   1.068560e+05   1.068560e+05   1.068560e+05\n",
       "mean    9.670630e+04   1.092361e+05   1.461672e+05\n",
       "std     6.860320e+04   8.302563e+04   1.863587e+05\n",
       "min     7.142000e+03   7.142000e+03   7.142000e+03\n",
       "25%     5.095100e+04   5.795325e+04   7.130800e+04\n",
       "50%     8.639900e+04   8.640100e+04   1.027400e+05\n",
       "75%     1.253688e+05   1.432058e+05   1.727990e+05\n",
       "max     1.573420e+06   1.859336e+06   1.855375e+07"
      ]
     },
     "execution_count": 31,
     "metadata": {},
     "output_type": "execute_result"
    }
   ],
   "source": [
    "aggregation_cols(db,'MSISDN/Number',\"Dur. (ms)\",True)\n"
   ]
  },
  {
   "cell_type": "code",
   "execution_count": 32,
   "metadata": {},
   "outputs": [
    {
     "data": {
      "text/html": [
       "<div>\n",
       "<style scoped>\n",
       "    .dataframe tbody tr th:only-of-type {\n",
       "        vertical-align: middle;\n",
       "    }\n",
       "\n",
       "    .dataframe tbody tr th {\n",
       "        vertical-align: top;\n",
       "    }\n",
       "\n",
       "    .dataframe thead th {\n",
       "        text-align: right;\n",
       "    }\n",
       "</style>\n",
       "<table border=\"1\" class=\"dataframe\">\n",
       "  <thead>\n",
       "    <tr style=\"text-align: right;\">\n",
       "      <th></th>\n",
       "      <th>Total UL (Bytes)_min</th>\n",
       "      <th>Total UL (Bytes)_max</th>\n",
       "      <th>Total UL (Bytes)_sum</th>\n",
       "    </tr>\n",
       "  </thead>\n",
       "  <tbody>\n",
       "    <tr>\n",
       "      <th>count</th>\n",
       "      <td>1.068560e+05</td>\n",
       "      <td>1.068560e+05</td>\n",
       "      <td>1.068560e+05</td>\n",
       "    </tr>\n",
       "    <tr>\n",
       "      <th>mean</th>\n",
       "      <td>3.906698e+07</td>\n",
       "      <td>4.318572e+07</td>\n",
       "      <td>5.730942e+07</td>\n",
       "    </tr>\n",
       "    <tr>\n",
       "      <th>std</th>\n",
       "      <td>1.126727e+07</td>\n",
       "      <td>1.126055e+07</td>\n",
       "      <td>3.565765e+07</td>\n",
       "    </tr>\n",
       "    <tr>\n",
       "      <th>min</th>\n",
       "      <td>2.866892e+06</td>\n",
       "      <td>2.866892e+06</td>\n",
       "      <td>2.866892e+06</td>\n",
       "    </tr>\n",
       "    <tr>\n",
       "      <th>25%</th>\n",
       "      <td>3.105607e+07</td>\n",
       "      <td>3.544135e+07</td>\n",
       "      <td>3.639547e+07</td>\n",
       "    </tr>\n",
       "    <tr>\n",
       "      <th>50%</th>\n",
       "      <td>3.878098e+07</td>\n",
       "      <td>4.351793e+07</td>\n",
       "      <td>4.679387e+07</td>\n",
       "    </tr>\n",
       "    <tr>\n",
       "      <th>75%</th>\n",
       "      <td>4.684226e+07</td>\n",
       "      <td>5.121987e+07</td>\n",
       "      <td>6.573199e+07</td>\n",
       "    </tr>\n",
       "    <tr>\n",
       "      <th>max</th>\n",
       "      <td>7.833131e+07</td>\n",
       "      <td>7.833131e+07</td>\n",
       "      <td>7.295774e+08</td>\n",
       "    </tr>\n",
       "  </tbody>\n",
       "</table>\n",
       "</div>"
      ],
      "text/plain": [
       "       Total UL (Bytes)_min  Total UL (Bytes)_max  Total UL (Bytes)_sum\n",
       "count          1.068560e+05          1.068560e+05          1.068560e+05\n",
       "mean           3.906698e+07          4.318572e+07          5.730942e+07\n",
       "std            1.126727e+07          1.126055e+07          3.565765e+07\n",
       "min            2.866892e+06          2.866892e+06          2.866892e+06\n",
       "25%            3.105607e+07          3.544135e+07          3.639547e+07\n",
       "50%            3.878098e+07          4.351793e+07          4.679387e+07\n",
       "75%            4.684226e+07          5.121987e+07          6.573199e+07\n",
       "max            7.833131e+07          7.833131e+07          7.295774e+08"
      ]
     },
     "execution_count": 32,
     "metadata": {},
     "output_type": "execute_result"
    }
   ],
   "source": [
    "aggregation_cols(db,'MSISDN/Number','Total UL (Bytes)',True)\n"
   ]
  },
  {
   "cell_type": "code",
   "execution_count": 35,
   "metadata": {},
   "outputs": [
    {
     "data": {
      "text/plain": [
       "count    1.068560e+05\n",
       "mean     5.730942e+07\n",
       "std      3.565765e+07\n",
       "min      2.866892e+06\n",
       "25%      3.639547e+07\n",
       "50%      4.679387e+07\n",
       "75%      6.573199e+07\n",
       "max      7.295774e+08\n",
       "Name: Total UL (Bytes)_sum, dtype: float64"
      ]
     },
     "execution_count": 35,
     "metadata": {},
     "output_type": "execute_result"
    }
   ],
   "source": [
    "aggregation_cols(db,'MSISDN/Number','Total UL (Bytes)',True)['Total UL (Bytes)_sum']\n"
   ]
  },
  {
   "cell_type": "code",
   "execution_count": 36,
   "metadata": {},
   "outputs": [
    {
     "data": {
      "text/html": [
       "<div>\n",
       "<style scoped>\n",
       "    .dataframe tbody tr th:only-of-type {\n",
       "        vertical-align: middle;\n",
       "    }\n",
       "\n",
       "    .dataframe tbody tr th {\n",
       "        vertical-align: top;\n",
       "    }\n",
       "\n",
       "    .dataframe thead th {\n",
       "        text-align: right;\n",
       "    }\n",
       "</style>\n",
       "<table border=\"1\" class=\"dataframe\">\n",
       "  <thead>\n",
       "    <tr style=\"text-align: right;\">\n",
       "      <th></th>\n",
       "      <th>Total DL (Bytes)_min</th>\n",
       "      <th>Total DL (Bytes)_max</th>\n",
       "      <th>Total DL (Bytes)_sum</th>\n",
       "    </tr>\n",
       "  </thead>\n",
       "  <tbody>\n",
       "    <tr>\n",
       "      <th>count</th>\n",
       "      <td>1.068560e+05</td>\n",
       "      <td>1.068560e+05</td>\n",
       "      <td>1.068560e+05</td>\n",
       "    </tr>\n",
       "    <tr>\n",
       "      <th>mean</th>\n",
       "      <td>4.101001e+08</td>\n",
       "      <td>5.003891e+08</td>\n",
       "      <td>6.336527e+08</td>\n",
       "    </tr>\n",
       "    <tr>\n",
       "      <th>std</th>\n",
       "      <td>2.429118e+08</td>\n",
       "      <td>2.424849e+08</td>\n",
       "      <td>4.645551e+08</td>\n",
       "    </tr>\n",
       "    <tr>\n",
       "      <th>min</th>\n",
       "      <td>7.114041e+06</td>\n",
       "      <td>8.827082e+06</td>\n",
       "      <td>8.827082e+06</td>\n",
       "    </tr>\n",
       "    <tr>\n",
       "      <th>25%</th>\n",
       "      <td>1.956287e+08</td>\n",
       "      <td>2.990552e+08</td>\n",
       "      <td>3.148271e+08</td>\n",
       "    </tr>\n",
       "    <tr>\n",
       "      <th>50%</th>\n",
       "      <td>3.891675e+08</td>\n",
       "      <td>5.228647e+08</td>\n",
       "      <td>5.703677e+08</td>\n",
       "    </tr>\n",
       "    <tr>\n",
       "      <th>75%</th>\n",
       "      <td>6.119677e+08</td>\n",
       "      <td>7.137592e+08</td>\n",
       "      <td>8.073645e+08</td>\n",
       "    </tr>\n",
       "    <tr>\n",
       "      <th>max</th>\n",
       "      <td>9.029696e+08</td>\n",
       "      <td>9.029696e+08</td>\n",
       "      <td>8.156743e+09</td>\n",
       "    </tr>\n",
       "  </tbody>\n",
       "</table>\n",
       "</div>"
      ],
      "text/plain": [
       "       Total DL (Bytes)_min  Total DL (Bytes)_max  Total DL (Bytes)_sum\n",
       "count          1.068560e+05          1.068560e+05          1.068560e+05\n",
       "mean           4.101001e+08          5.003891e+08          6.336527e+08\n",
       "std            2.429118e+08          2.424849e+08          4.645551e+08\n",
       "min            7.114041e+06          8.827082e+06          8.827082e+06\n",
       "25%            1.956287e+08          2.990552e+08          3.148271e+08\n",
       "50%            3.891675e+08          5.228647e+08          5.703677e+08\n",
       "75%            6.119677e+08          7.137592e+08          8.073645e+08\n",
       "max            9.029696e+08          9.029696e+08          8.156743e+09"
      ]
     },
     "execution_count": 36,
     "metadata": {},
     "output_type": "execute_result"
    }
   ],
   "source": [
    "aggregation_cols(db,'MSISDN/Number','Total DL (Bytes)',True)\n"
   ]
  },
  {
   "cell_type": "code",
   "execution_count": 38,
   "metadata": {},
   "outputs": [
    {
     "data": {
      "text/plain": [
       "count    1.068560e+05\n",
       "mean     6.336527e+08\n",
       "std      4.645551e+08\n",
       "min      8.827082e+06\n",
       "25%      3.148271e+08\n",
       "50%      5.703677e+08\n",
       "75%      8.073645e+08\n",
       "max      8.156743e+09\n",
       "Name: Total DL (Bytes)_sum, dtype: float64"
      ]
     },
     "execution_count": 38,
     "metadata": {},
     "output_type": "execute_result"
    }
   ],
   "source": [
    "aggregation_cols(db,'MSISDN/Number','Total DL (Bytes)',True)['Total DL (Bytes)_sum']\n"
   ]
  },
  {
   "cell_type": "code",
   "execution_count": null,
   "metadata": {},
   "outputs": [
    {
     "name": "stdout",
     "output_type": "stream",
     "text": [
      "{33663706799.0: 1067, 33626320676.0: 18, 33614892860.0: 17, 33625779332.0: 17, 33659725664.0: 16}\n"
     ]
    },
    {
     "data": {
      "text/plain": [
       "msisdn/number\n",
       "3.360100e+10    116720.0\n",
       "3.360100e+10    181230.0\n",
       "3.360100e+10    134969.0\n",
       "3.360101e+10     49878.0\n",
       "3.360101e+10     37104.0\n",
       "                  ...   \n",
       "3.379000e+10      8810.0\n",
       "3.379000e+10    140988.0\n",
       "3.197021e+12    877385.0\n",
       "3.370000e+14    253030.0\n",
       "8.823971e+14    869844.0\n",
       "Name: dur._(ms), Length: 106856, dtype: float64"
      ]
     },
     "execution_count": 67,
     "metadata": {},
     "output_type": "execute_result"
    }
   ],
   "source": [
    "#Check the frequency of user sessions. The results should show a total duration for each user in ms.\n",
    "sessionsCountData=db['msisdn/number'].value_counts().head()\n",
    "\n",
    "sessionsCount=sessionsCountData.values.tolist()\n",
    "\n",
    "msisdn=sessionsCountData.index.values\n",
    "\n",
    "sessionPerUserDictionary = dict(zip(msisdn, sessionsCount))\n",
    "\n",
    "print(sessionPerUserDictionary)\n",
    "db.groupby('msisdn/number')['dur._(ms)'].sum()"
   ]
  },
  {
   "cell_type": "markdown",
   "metadata": {},
   "source": [
    "## Data Formating "
   ]
  },
  {
   "cell_type": "code",
   "execution_count": null,
   "metadata": {},
   "outputs": [],
   "source": [
    "#Clean the data using Preprocessing script.\n",
    "preprocess = PreProcess(db)"
   ]
  },
  {
   "cell_type": "code",
   "execution_count": null,
   "metadata": {},
   "outputs": [
    {
     "name": "stdout",
     "output_type": "stream",
     "text": [
      "<class 'pandas.core.frame.DataFrame'>\n",
      "Int64Index: 150001 entries, 0 to 150000\n",
      "Data columns (total 55 columns):\n",
      " #   Column                                    Non-Null Count   Dtype  \n",
      "---  ------                                    --------------   -----  \n",
      " 0   bearer_id                                 150001 non-null  float64\n",
      " 1   start                                     150000 non-null  object \n",
      " 2   start_ms                                  150001 non-null  float64\n",
      " 3   end                                       150000 non-null  object \n",
      " 4   end_ms                                    150001 non-null  float64\n",
      " 5   dur._(ms)                                 150001 non-null  float64\n",
      " 6   imsi                                      150001 non-null  float64\n",
      " 7   msisdn/number                             150001 non-null  float64\n",
      " 8   imei                                      150001 non-null  float64\n",
      " 9   last_location_name                        148848 non-null  object \n",
      " 10  avg_rtt_dl_(ms)                           150001 non-null  float64\n",
      " 11  avg_rtt_ul_(ms)                           150001 non-null  float64\n",
      " 12  avg_bearer_tp_dl_(kbps)                   150001 non-null  float64\n",
      " 13  avg_bearer_tp_ul_(kbps)                   150001 non-null  float64\n",
      " 14  tcp_dl_retrans._vol_(bytes)               150001 non-null  float64\n",
      " 15  tcp_ul_retrans._vol_(bytes)               150001 non-null  float64\n",
      " 16  dl_tp_<_50_kbps_(%)                       150001 non-null  float64\n",
      " 17  50_kbps_<_dl_tp_<_250_kbps_(%)            150001 non-null  float64\n",
      " 18  250_kbps_<_dl_tp_<_1_mbps_(%)             150001 non-null  float64\n",
      " 19  dl_tp_>_1_mbps_(%)                        150001 non-null  float64\n",
      " 20  ul_tp_<_10_kbps_(%)                       150001 non-null  float64\n",
      " 21  10_kbps_<_ul_tp_<_50_kbps_(%)             150001 non-null  float64\n",
      " 22  50_kbps_<_ul_tp_<_300_kbps_(%)            150001 non-null  float64\n",
      " 23  ul_tp_>_300_kbps_(%)                      150001 non-null  float64\n",
      " 24  http_dl_(bytes)                           150001 non-null  float64\n",
      " 25  http_ul_(bytes)                           150001 non-null  float64\n",
      " 26  activity_duration_dl_(ms)                 150001 non-null  float64\n",
      " 27  activity_duration_ul_(ms)                 150001 non-null  float64\n",
      " 28  dur._(ms).1                               150001 non-null  float64\n",
      " 29  handset_manufacturer                      149429 non-null  object \n",
      " 30  handset_type                              149429 non-null  object \n",
      " 31  nb_of_sec_with_125000b_<_vol_dl           150001 non-null  float64\n",
      " 32  nb_of_sec_with_1250b_<_vol_ul_<_6250b     150001 non-null  float64\n",
      " 33  nb_of_sec_with_31250b_<_vol_dl_<_125000b  150001 non-null  float64\n",
      " 34  nb_of_sec_with_37500b_<_vol_ul            150001 non-null  float64\n",
      " 35  nb_of_sec_with_6250b_<_vol_dl_<_31250b    150001 non-null  float64\n",
      " 36  nb_of_sec_with_6250b_<_vol_ul_<_37500b    150001 non-null  float64\n",
      " 37  nb_of_sec_with_vol_dl_<_6250b             150001 non-null  float64\n",
      " 38  nb_of_sec_with_vol_ul_<_1250b             150001 non-null  float64\n",
      " 39  social_media_dl_(bytes)                   150001 non-null  float64\n",
      " 40  social_media_ul_(bytes)                   150001 non-null  float64\n",
      " 41  google_dl_(bytes)                         150001 non-null  float64\n",
      " 42  google_ul_(bytes)                         150001 non-null  float64\n",
      " 43  email_dl_(bytes)                          150001 non-null  float64\n",
      " 44  email_ul_(bytes)                          150001 non-null  float64\n",
      " 45  youtube_dl_(bytes)                        150001 non-null  float64\n",
      " 46  youtube_ul_(bytes)                        150001 non-null  float64\n",
      " 47  netflix_dl_(bytes)                        150001 non-null  float64\n",
      " 48  netflix_ul_(bytes)                        150001 non-null  float64\n",
      " 49  gaming_dl_(bytes)                         150001 non-null  float64\n",
      " 50  gaming_ul_(bytes)                         150001 non-null  float64\n",
      " 51  other_dl_(bytes)                          150001 non-null  float64\n",
      " 52  other_ul_(bytes)                          150001 non-null  float64\n",
      " 53  total_ul_(bytes)                          150001 non-null  float64\n",
      " 54  total_dl_(bytes)                          150001 non-null  float64\n",
      "dtypes: float64(50), object(5)\n",
      "memory usage: 64.1+ MB\n"
     ]
    }
   ],
   "source": [
    "db.info()"
   ]
  },
  {
   "cell_type": "code",
   "execution_count": null,
   "metadata": {},
   "outputs": [],
   "source": [
    "db = preprocess.clean_feature_name(db)\n"
   ]
  },
  {
   "cell_type": "code",
   "execution_count": null,
   "metadata": {},
   "outputs": [
    {
     "data": {
      "text/plain": [
       "Index(['bearer_id', 'start', 'start_ms', 'end', 'end_ms', 'dur._(ms)', 'imsi',\n",
       "       'msisdn/number', 'imei', 'last_location_name', 'avg_rtt_dl_(ms)',\n",
       "       'avg_rtt_ul_(ms)', 'avg_bearer_tp_dl_(kbps)', 'avg_bearer_tp_ul_(kbps)',\n",
       "       'tcp_dl_retrans._vol_(bytes)', 'tcp_ul_retrans._vol_(bytes)',\n",
       "       'dl_tp_<_50_kbps_(%)', '50_kbps_<_dl_tp_<_250_kbps_(%)',\n",
       "       '250_kbps_<_dl_tp_<_1_mbps_(%)', 'dl_tp_>_1_mbps_(%)',\n",
       "       'ul_tp_<_10_kbps_(%)', '10_kbps_<_ul_tp_<_50_kbps_(%)',\n",
       "       '50_kbps_<_ul_tp_<_300_kbps_(%)', 'ul_tp_>_300_kbps_(%)',\n",
       "       'http_dl_(bytes)', 'http_ul_(bytes)', 'activity_duration_dl_(ms)',\n",
       "       'activity_duration_ul_(ms)', 'dur._(ms).1', 'handset_manufacturer',\n",
       "       'handset_type', 'nb_of_sec_with_125000b_<_vol_dl',\n",
       "       'nb_of_sec_with_1250b_<_vol_ul_<_6250b',\n",
       "       'nb_of_sec_with_31250b_<_vol_dl_<_125000b',\n",
       "       'nb_of_sec_with_37500b_<_vol_ul',\n",
       "       'nb_of_sec_with_6250b_<_vol_dl_<_31250b',\n",
       "       'nb_of_sec_with_6250b_<_vol_ul_<_37500b',\n",
       "       'nb_of_sec_with_vol_dl_<_6250b', 'nb_of_sec_with_vol_ul_<_1250b',\n",
       "       'social_media_dl_(bytes)', 'social_media_ul_(bytes)',\n",
       "       'google_dl_(bytes)', 'google_ul_(bytes)', 'email_dl_(bytes)',\n",
       "       'email_ul_(bytes)', 'youtube_dl_(bytes)', 'youtube_ul_(bytes)',\n",
       "       'netflix_dl_(bytes)', 'netflix_ul_(bytes)', 'gaming_dl_(bytes)',\n",
       "       'gaming_ul_(bytes)', 'other_dl_(bytes)', 'other_ul_(bytes)',\n",
       "       'total_ul_(bytes)', 'total_dl_(bytes)'],\n",
       "      dtype='object')"
      ]
     },
     "execution_count": 48,
     "metadata": {},
     "output_type": "execute_result"
    }
   ],
   "source": [
    "db.columns"
   ]
  },
  {
   "cell_type": "code",
   "execution_count": null,
   "metadata": {},
   "outputs": [],
   "source": []
  },
  {
   "cell_type": "markdown",
   "metadata": {},
   "source": [
    "Since we have a lot of rows, an easy way to deal with the missing values will be to drop the rows with duplicates."
   ]
  },
  {
   "cell_type": "code",
   "execution_count": null,
   "metadata": {},
   "outputs": [],
   "source": [
    "db = preprocess.drop_duplicates(db)\n"
   ]
  },
  {
   "cell_type": "code",
   "execution_count": null,
   "metadata": {},
   "outputs": [
    {
     "name": "stdout",
     "output_type": "stream",
     "text": [
      "Index(['start', 'end', 'last_location_name', 'handset_manufacturer',\n",
      "       'handset_type'],\n",
      "      dtype='object')\n"
     ]
    }
   ],
   "source": [
    "# drop columns with more than 30% missing values\n",
    "db_c, db_before_filling, missing_cols = preprocess.drop_variables(db)\n"
   ]
  },
  {
   "cell_type": "code",
   "execution_count": null,
   "metadata": {},
   "outputs": [
    {
     "name": "stdout",
     "output_type": "stream",
     "text": [
      "Index(['start', 'end', 'last_location_name', 'handset_manufacturer',\n",
      "       'handset_type'],\n",
      "      dtype='object')\n"
     ]
    }
   ],
   "source": [
    "print(missing_cols)\n"
   ]
  },
  {
   "cell_type": "markdown",
   "metadata": {},
   "source": [
    "Notice that the columns that don't have a count of 150,001 are printed as the missing columns. We then replace these missing values with "
   ]
  },
  {
   "cell_type": "markdown",
   "metadata": {},
   "source": [
    "Since there are numerous missing values and outliers, we replace them will median."
   ]
  },
  {
   "cell_type": "code",
   "execution_count": null,
   "metadata": {},
   "outputs": [
    {
     "name": "stdout",
     "output_type": "stream",
     "text": [
      "Index(['bearer_id', 'start_ms', 'end_ms', 'dur._(ms)', 'imsi', 'msisdn/number',\n",
      "       'imei', 'avg_rtt_dl_(ms)', 'avg_rtt_ul_(ms)', 'avg_bearer_tp_dl_(kbps)',\n",
      "       'avg_bearer_tp_ul_(kbps)', 'tcp_dl_retrans._vol_(bytes)',\n",
      "       'tcp_ul_retrans._vol_(bytes)', 'dl_tp_<_50_kbps_(%)',\n",
      "       '50_kbps_<_dl_tp_<_250_kbps_(%)', '250_kbps_<_dl_tp_<_1_mbps_(%)',\n",
      "       'dl_tp_>_1_mbps_(%)', 'ul_tp_<_10_kbps_(%)',\n",
      "       '10_kbps_<_ul_tp_<_50_kbps_(%)', '50_kbps_<_ul_tp_<_300_kbps_(%)',\n",
      "       'ul_tp_>_300_kbps_(%)', 'http_dl_(bytes)', 'http_ul_(bytes)',\n",
      "       'activity_duration_dl_(ms)', 'activity_duration_ul_(ms)', 'dur._(ms).1',\n",
      "       'nb_of_sec_with_125000b_<_vol_dl',\n",
      "       'nb_of_sec_with_1250b_<_vol_ul_<_6250b',\n",
      "       'nb_of_sec_with_31250b_<_vol_dl_<_125000b',\n",
      "       'nb_of_sec_with_37500b_<_vol_ul',\n",
      "       'nb_of_sec_with_6250b_<_vol_dl_<_31250b',\n",
      "       'nb_of_sec_with_6250b_<_vol_ul_<_37500b',\n",
      "       'nb_of_sec_with_vol_dl_<_6250b', 'nb_of_sec_with_vol_ul_<_1250b',\n",
      "       'social_media_dl_(bytes)', 'social_media_ul_(bytes)',\n",
      "       'google_dl_(bytes)', 'google_ul_(bytes)', 'email_dl_(bytes)',\n",
      "       'email_ul_(bytes)', 'youtube_dl_(bytes)', 'youtube_ul_(bytes)',\n",
      "       'netflix_dl_(bytes)', 'netflix_ul_(bytes)', 'gaming_dl_(bytes)',\n",
      "       'gaming_ul_(bytes)', 'other_dl_(bytes)', 'other_ul_(bytes)',\n",
      "       'total_ul_(bytes)', 'total_dl_(bytes)'],\n",
      "      dtype='object')\n",
      "bearer_id                                   7.349883e+18\n",
      "start_ms                                    4.990000e+02\n",
      "end_ms                                      5.000000e+02\n",
      "dur._(ms)                                   8.639900e+04\n",
      "imsi                                        2.082015e+14\n",
      "msisdn/number                               3.366371e+10\n",
      "imei                                        3.572201e+13\n",
      "avg_rtt_dl_(ms)                             4.500000e+01\n",
      "avg_rtt_ul_(ms)                             5.000000e+00\n",
      "avg_bearer_tp_dl_(kbps)                     6.300000e+01\n",
      "avg_bearer_tp_ul_(kbps)                     6.300000e+01\n",
      "tcp_dl_retrans._vol_(bytes)                 5.687300e+05\n",
      "tcp_ul_retrans._vol_(bytes)                 2.094950e+04\n",
      "dl_tp_<_50_kbps_(%)                         1.000000e+02\n",
      "50_kbps_<_dl_tp_<_250_kbps_(%)              0.000000e+00\n",
      "250_kbps_<_dl_tp_<_1_mbps_(%)               0.000000e+00\n",
      "dl_tp_>_1_mbps_(%)                          0.000000e+00\n",
      "ul_tp_<_10_kbps_(%)                         1.000000e+02\n",
      "10_kbps_<_ul_tp_<_50_kbps_(%)               0.000000e+00\n",
      "50_kbps_<_ul_tp_<_300_kbps_(%)              0.000000e+00\n",
      "ul_tp_>_300_kbps_(%)                        0.000000e+00\n",
      "http_dl_(bytes)                             1.941949e+06\n",
      "http_ul_(bytes)                             2.297330e+05\n",
      "activity_duration_dl_(ms)                   3.930450e+04\n",
      "activity_duration_ul_(ms)                   4.679350e+04\n",
      "dur._(ms).1                                 8.639998e+07\n",
      "nb_of_sec_with_125000b_<_vol_dl             1.280000e+02\n",
      "nb_of_sec_with_1250b_<_vol_ul_<_6250b       5.200000e+01\n",
      "nb_of_sec_with_31250b_<_vol_dl_<_125000b    1.640000e+02\n",
      "nb_of_sec_with_37500b_<_vol_ul              8.000000e+00\n",
      "nb_of_sec_with_6250b_<_vol_dl_<_31250b      2.880000e+02\n",
      "nb_of_sec_with_6250b_<_vol_ul_<_37500b      8.000000e+00\n",
      "nb_of_sec_with_vol_dl_<_6250b               2.030000e+02\n",
      "nb_of_sec_with_vol_ul_<_1250b               2.170000e+02\n",
      "social_media_dl_(bytes)                     1.794369e+06\n",
      "social_media_ul_(bytes)                     3.292000e+04\n",
      "google_dl_(bytes)                           5.765829e+06\n",
      "google_ul_(bytes)                           2.054573e+06\n",
      "email_dl_(bytes)                            1.793505e+06\n",
      "email_ul_(bytes)                            4.662500e+05\n",
      "youtube_dl_(bytes)                          1.161602e+07\n",
      "youtube_ul_(bytes)                          1.101345e+07\n",
      "netflix_dl_(bytes)                          1.164222e+07\n",
      "netflix_ul_(bytes)                          1.099638e+07\n",
      "gaming_dl_(bytes)                           4.234081e+08\n",
      "gaming_ul_(bytes)                           8.291208e+06\n",
      "other_dl_(bytes)                            4.218030e+08\n",
      "other_ul_(bytes)                            8.267071e+06\n",
      "total_ul_(bytes)                            4.114331e+07\n",
      "total_dl_(bytes)                            4.558411e+08\n",
      "dtype: float64\n"
     ]
    }
   ],
   "source": [
    "cols, df_single, num_cols = preprocess.fill_numerical_variables(db)\n"
   ]
  },
  {
   "cell_type": "code",
   "execution_count": null,
   "metadata": {},
   "outputs": [
    {
     "name": "stdout",
     "output_type": "stream",
     "text": [
      "5\n"
     ]
    }
   ],
   "source": [
    "print(len(missing_cols))\n"
   ]
  },
  {
   "cell_type": "markdown",
   "metadata": {},
   "source": [
    "## Data Transformation"
   ]
  }
 ],
 "metadata": {
  "kernelspec": {
   "display_name": "Python 3.8.5 ('base')",
   "language": "python",
   "name": "python3"
  },
  "language_info": {
   "codemirror_mode": {
    "name": "ipython",
    "version": 3
   },
   "file_extension": ".py",
   "mimetype": "text/x-python",
   "name": "python",
   "nbconvert_exporter": "python",
   "pygments_lexer": "ipython3",
   "version": "3.8.5"
  },
  "orig_nbformat": 4,
  "vscode": {
   "interpreter": {
    "hash": "b9edf845f1afde2801bee14c4a2518550ef58fae3f59028d02e3ffc42525ae3b"
   }
  }
 },
 "nbformat": 4,
 "nbformat_minor": 2
}
